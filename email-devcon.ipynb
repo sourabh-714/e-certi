{
 "cells": [
  {
   "cell_type": "code",
   "execution_count": 17,
   "metadata": {},
   "outputs": [
    {
     "name": "stdout",
     "output_type": "stream",
     "text": [
      "processing pls wait\n",
      "certificates sent\n"
     ]
    },
    {
     "data": {
      "text/plain": [
       "(221, b'2.0.0 closing connection l5sm1440714pgr.73 - gsmtp')"
      ]
     },
     "execution_count": 17,
     "metadata": {},
     "output_type": "execute_result"
    }
   ],
   "source": [
    "\n",
    "from PIL import Image, ImageDraw, ImageFont\n",
    "import os\n",
    "os.system(\"python -m pip install Pillow\")\n",
    "import smtplib \n",
    "from email.mime.multipart import MIMEMultipart \n",
    "from email.mime.text import MIMEText \n",
    "from email.mime.base import MIMEBase \n",
    "from email import encoders\n",
    "import csv \n",
    "\n",
    "\n",
    "\n",
    "fromaddr = \"sourabh18csu241@ncuindia.edu\"\n",
    "password = \"app pass\"\n",
    "\n",
    "s = smtplib.SMTP('smtp.gmail.com', 587)\n",
    "s.starttls()\n",
    "s.login(\"sourabh18csu241@ncuindia.edu\",\"app pass\"\n",
    ")\n",
    "\n",
    "csvfile = r\"/Users/sourabhsharma/Desktop/certi.csv\"\n",
    "\n",
    "def process(word,toaddr):\n",
    "    #image = Image.open('71.jpg')\n",
    "    #draw = ImageDraw.Draw(image)\n",
    "    #font = ImageFont.truetype(\"mtc.ttf\",150)\n",
    "   # try:\n",
    "      #  os.mkdir('certificates')\n",
    "   # except:pass\n",
    "    #(x, y) = (2212, 1695)\n",
    "    #color = 'rgb(0, 0, 0)'\n",
    "    #draw.text((x, y), word.title(), fill=color, size=45, font=font)\n",
    "    #filename = os.path.join('certificates',f\"{word}_certificate.jpg\")\n",
    "    #image.save(os.path.join(filename))\n",
    "    msg = MIMEMultipart() \n",
    "    msg['From'] = fromaddr \n",
    "    msg['To'] = toaddr \n",
    "    msg['Subject'] = \"Certificate of webinar on Domestic violence amid Covid-19 lockdown\"\n",
    "    body = f\"\"\"Dear {word},\n",
    "    Type the message here\n",
    "    \n",
    "    Regards\n",
    "    Devcon Team\n",
    "    \"\"\"\n",
    "    msg.attach(MIMEText(body, 'plain')) \n",
    "    p=msg\n",
    "    \n",
    "   # attachment = open(filename, \"rb\")  \n",
    "    #p = MIMEBase('application', 'octet-stream') \n",
    "    #p.set_payload((attachment).read()) \n",
    "    #encoders.encode_base64(p) \n",
    "    #p.add_header('Content-Disposition', \"attachment; filename= %s\" % filename) \n",
    "    #msg.attach(p) \n",
    "    text = msg.as_string()\n",
    "    s.sendmail(fromaddr, toaddr, text)\n",
    "\n",
    "with open(csvfile,'r') as file:\n",
    "    print('processing pls wait')\n",
    "    for word,email in [x for x in csv.reader(file)][1:]:\n",
    "        process(word,email)\n",
    "    print('certificates sent')\n",
    "s.quit()"
   ]
  },
  {
   "cell_type": "code",
   "execution_count": null,
   "metadata": {},
   "outputs": [],
   "source": []
  }
 ],
 "metadata": {
  "kernelspec": {
   "display_name": "Python 3",
   "language": "python",
   "name": "python3"
  },
  "language_info": {
   "codemirror_mode": {
    "name": "ipython",
    "version": 3
   },
   "file_extension": ".py",
   "mimetype": "text/x-python",
   "name": "python",
   "nbconvert_exporter": "python",
   "pygments_lexer": "ipython3",
   "version": "3.7.3"
  }
 },
 "nbformat": 4,
 "nbformat_minor": 4
}
